{
  "nbformat": 4,
  "nbformat_minor": 0,
  "metadata": {
    "colab": {
      "provenance": [],
      "authorship_tag": "ABX9TyMvrNRAh3P9ESqwZVwMVNQm",
      "include_colab_link": true
    },
    "kernelspec": {
      "name": "python3",
      "display_name": "Python 3"
    },
    "language_info": {
      "name": "python"
    }
  },
  "cells": [
    {
      "cell_type": "markdown",
      "metadata": {
        "id": "view-in-github",
        "colab_type": "text"
      },
      "source": [
        "<a href=\"https://colab.research.google.com/github/archana-verma/Reesa_Archana/blob/main/n_dmbi_me2.ipynb\" target=\"_parent\"><img src=\"https://colab.research.google.com/assets/colab-badge.svg\" alt=\"Open In Colab\"/></a>"
      ]
    },
    {
      "cell_type": "code",
      "execution_count": 1,
      "metadata": {
        "id": "ECxEC0xMmkI1"
      },
      "outputs": [],
      "source": [
        "import pandas as pd\n",
        "import numpy as np\n",
        "import pandas as pd\n",
        "import os\n",
        "from matplotlib import image\n",
        "import matplotlib.pyplot as plt\n",
        "from tqdm import tqdm"
      ]
    },
    {
      "cell_type": "code",
      "source": [
        "def find_orbitals(filename):\n",
        "  with open(filename, \"r\") as f:\n",
        "    orbitals = []\n",
        "    inner_orbitals = []\n",
        "    parse = False\n",
        "    for line in f:\n",
        "      #start exctract text \n",
        "      if 'ORBITAL ENERGIES' in line:\n",
        "        parse = True\n",
        "        next(f)\n",
        "        next(f)\n",
        "        continue\n",
        "                  \n",
        "      if parse:\n",
        "        if len(line.split()) == 0:\n",
        "          orbitals.append(inner_orbitals)\n",
        "          inner_orbitals = []\n",
        "          break\n",
        "        else:\n",
        "          inner_orbitals.append(line)\n",
        "\n",
        "  return orbitals[-1]"
      ],
      "metadata": {
        "id": "EjeSt8YXmkuZ"
      },
      "execution_count": 2,
      "outputs": []
    },
    {
      "cell_type": "code",
      "source": [
        "import pandas as pd\n",
        "\n",
        "def Extract(i, lst):\n",
        "  return [item[i] for item in lst]\n",
        "  \n",
        "def clean_data(filename):\n",
        "  orbital_list = find_orbitals(filename)\n",
        "  rows = []\n",
        "\n",
        "  for x in range(1, len(orbital_list)):\n",
        "    rows.append(orbital_list[x].split())\n",
        "\n",
        "  data = np.array(rows)\n",
        "\n",
        "  no = Extract(0, data)\n",
        "  occ = Extract(1, data)\n",
        "  eeh = Extract(2, data)\n",
        "  eev = Extract(3, data)\n",
        "\n",
        "  dict = {'NO': no, 'OCC': occ, 'E(Eh)': eeh, 'E(eV)': eev} \n",
        "\n",
        "  df = pd.DataFrame(dict) \n",
        "      \n",
        "\n",
        "  return df"
      ],
      "metadata": {
        "id": "5_rJY8UwmmAE"
      },
      "execution_count": 3,
      "outputs": []
    },
    {
      "cell_type": "code",
      "source": [
        "!git clone https://github.com/archana-verma/Reesa_Archana.git\n",
        "os.chdir('./Reesa_Archana/N-DMBI-Me2/')"
      ],
      "metadata": {
        "colab": {
          "base_uri": "https://localhost:8080/"
        },
        "id": "sbcDQzBFmnbr",
        "outputId": "3bd256bb-d5f4-4f3c-f5ad-a7cdb28fbc14"
      },
      "execution_count": 4,
      "outputs": [
        {
          "output_type": "stream",
          "name": "stdout",
          "text": [
            "Cloning into 'Reesa_Archana'...\n",
            "remote: Enumerating objects: 324, done.\u001b[K\n",
            "remote: Counting objects: 100% (136/136), done.\u001b[K\n",
            "remote: Compressing objects: 100% (129/129), done.\u001b[K\n",
            "remote: Total 324 (delta 37), reused 79 (delta 7), pack-reused 188\u001b[K\n",
            "Receiving objects: 100% (324/324), 95.29 MiB | 39.84 MiB/s, done.\n",
            "Resolving deltas: 100% (61/61), done.\n"
          ]
        }
      ]
    },
    {
      "cell_type": "code",
      "source": [
        "df = clean_data('N-DMBI-Me2.out')\n",
        "dfCSV = df.to_csv('N-DMBI-Me2.csv')\n",
        "df.info"
      ],
      "metadata": {
        "colab": {
          "base_uri": "https://localhost:8080/"
        },
        "id": "HVNHYoV0mquX",
        "outputId": "6bb160a2-c914-41b5-db5b-e6a393a0159a"
      },
      "execution_count": 7,
      "outputs": [
        {
          "output_type": "execute_result",
          "data": {
            "text/plain": [
              "<bound method DataFrame.info of       NO     OCC       E(Eh)      E(eV)\n",
              "0      0  2.0000  -14.432961  -392.7408\n",
              "1      1  2.0000  -14.428099  -392.6085\n",
              "2      2  2.0000  -14.427118  -392.5818\n",
              "3      3  2.0000  -10.348444  -281.5955\n",
              "4      4  2.0000  -10.329546  -281.0812\n",
              "..   ...     ...         ...        ...\n",
              "827  827  0.0000   23.368002   635.8757\n",
              "828  828  0.0000   23.768428   646.7718\n",
              "829  829  0.0000   32.906992   895.4448\n",
              "830  830  0.0000   33.095923   900.5859\n",
              "831  831  0.0000   33.194891   903.2789\n",
              "\n",
              "[832 rows x 4 columns]>"
            ]
          },
          "metadata": {},
          "execution_count": 7
        }
      ]
    }
  ]
}