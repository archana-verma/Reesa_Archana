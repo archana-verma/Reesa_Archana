{
  "nbformat": 4,
  "nbformat_minor": 0,
  "metadata": {
    "colab": {
      "provenance": [],
      "authorship_tag": "ABX9TyPaIqHGlV40KG2zrIpJ+feb",
      "include_colab_link": true
    },
    "kernelspec": {
      "name": "python3",
      "display_name": "Python 3"
    },
    "language_info": {
      "name": "python"
    }
  },
  "cells": [
    {
      "cell_type": "markdown",
      "metadata": {
        "id": "view-in-github",
        "colab_type": "text"
      },
      "source": [
        "<a href=\"https://colab.research.google.com/github/archana-verma/Reesa_Archana/blob/main/o_MeO_DMBI.ipynb\" target=\"_parent\"><img src=\"https://colab.research.google.com/assets/colab-badge.svg\" alt=\"Open In Colab\"/></a>"
      ]
    },
    {
      "cell_type": "code",
      "execution_count": 1,
      "metadata": {
        "id": "0hjnLlX7qOU2"
      },
      "outputs": [],
      "source": [
        "import pandas as pd\n",
        "import numpy as np\n",
        "import pandas as pd\n",
        "import os\n",
        "from matplotlib import image\n",
        "import matplotlib.pyplot as plt\n",
        "from tqdm import tqdm"
      ]
    },
    {
      "cell_type": "code",
      "source": [
        "def find_orbitals(filename):\n",
        "  with open(filename, \"r\") as f:\n",
        "    orbitals = []\n",
        "    inner_orbitals = []\n",
        "    parse = False\n",
        "    for line in f:\n",
        "      #start exctract text \n",
        "      if 'ORBITAL ENERGIES' in line:\n",
        "        parse = True\n",
        "        next(f)\n",
        "        next(f)\n",
        "        continue\n",
        "                  \n",
        "      if parse:\n",
        "        if len(line.split()) == 0:\n",
        "          orbitals.append(inner_orbitals)\n",
        "          inner_orbitals = []\n",
        "          break\n",
        "        else:\n",
        "          inner_orbitals.append(line)\n",
        "\n",
        "  return orbitals[-1]"
      ],
      "metadata": {
        "id": "hcMagmZvqP7h"
      },
      "execution_count": 2,
      "outputs": []
    },
    {
      "cell_type": "code",
      "source": [
        "import pandas as pd\n",
        "\n",
        "def Extract(i, lst):\n",
        "  return [item[i] for item in lst]\n",
        "  \n",
        "def clean_data(filename):\n",
        "  orbital_list = find_orbitals(filename)\n",
        "  rows = []\n",
        "\n",
        "  for x in range(1, len(orbital_list)):\n",
        "    rows.append(orbital_list[x].split())\n",
        "\n",
        "  data = np.array(rows)\n",
        "\n",
        "  no = Extract(0, data)\n",
        "  occ = Extract(1, data)\n",
        "  eeh = Extract(2, data)\n",
        "  eev = Extract(3, data)\n",
        "\n",
        "  dict = {'NO': no, 'OCC': occ, 'E(Eh)': eeh, 'E(eV)': eev} \n",
        "\n",
        "  df = pd.DataFrame(dict) \n",
        "      \n",
        "\n",
        "  return df"
      ],
      "metadata": {
        "id": "nUur5DJhqTle"
      },
      "execution_count": 3,
      "outputs": []
    },
    {
      "cell_type": "code",
      "source": [
        "!git clone https://github.com/archana-verma/Reesa_Archana.git\n",
        "os.chdir('./Reesa_Archana/o-MeO-DMBI/')"
      ],
      "metadata": {
        "colab": {
          "base_uri": "https://localhost:8080/"
        },
        "id": "ojaBSzdFqUlW",
        "outputId": "b451bfdf-9059-4c8d-8f74-361de0353939"
      },
      "execution_count": 4,
      "outputs": [
        {
          "output_type": "stream",
          "name": "stdout",
          "text": [
            "Cloning into 'Reesa_Archana'...\n",
            "remote: Enumerating objects: 370, done.\u001b[K\n",
            "remote: Counting objects: 100% (182/182), done.\u001b[K\n",
            "remote: Compressing objects: 100% (175/175), done.\u001b[K\n",
            "remote: Total 370 (delta 63), reused 79 (delta 7), pack-reused 188\u001b[K\n",
            "Receiving objects: 100% (370/370), 95.89 MiB | 33.25 MiB/s, done.\n",
            "Resolving deltas: 100% (87/87), done.\n"
          ]
        }
      ]
    },
    {
      "cell_type": "code",
      "source": [
        "df = clean_data('o-MeO-DMBI.out')\n",
        "dfCSV = df.to_csv('o-MeO-DMBI.csv')\n",
        "df.info"
      ],
      "metadata": {
        "colab": {
          "base_uri": "https://localhost:8080/"
        },
        "id": "QY8y2MJsqXlX",
        "outputId": "05cdaf35-26a1-4bcb-9f71-79e50f53f472"
      },
      "execution_count": 5,
      "outputs": [
        {
          "output_type": "execute_result",
          "data": {
            "text/plain": [
              "<bound method DataFrame.info of       NO     OCC       E(Eh)      E(eV)\n",
              "0      0  2.0000  -19.266107  -524.2574\n",
              "1      1  2.0000  -14.436793  -392.8451\n",
              "2      2  2.0000  -14.427168  -392.5832\n",
              "3      3  2.0000  -10.371159  -282.2136\n",
              "4      4  2.0000  -10.360849  -281.9330\n",
              "..   ...     ...         ...        ...\n",
              "563  563  0.0000   23.416761   637.2025\n",
              "564  564  0.0000   23.663673   643.9213\n",
              "565  565  0.0000   32.600613   887.1078\n",
              "566  566  0.0000   32.654218   888.5664\n",
              "567  567  0.0000   44.068327  1199.1601\n",
              "\n",
              "[568 rows x 4 columns]>"
            ]
          },
          "metadata": {},
          "execution_count": 5
        }
      ]
    }
  ]
}