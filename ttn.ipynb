{
  "nbformat": 4,
  "nbformat_minor": 0,
  "metadata": {
    "colab": {
      "provenance": [],
      "authorship_tag": "ABX9TyPIZWPgWQ1lEtNq2Mk9Fz31",
      "include_colab_link": true
    },
    "kernelspec": {
      "name": "python3",
      "display_name": "Python 3"
    },
    "language_info": {
      "name": "python"
    }
  },
  "cells": [
    {
      "cell_type": "markdown",
      "metadata": {
        "id": "view-in-github",
        "colab_type": "text"
      },
      "source": [
        "<a href=\"https://colab.research.google.com/github/archana-verma/Reesa_Archana/blob/main/ttn.ipynb\" target=\"_parent\"><img src=\"https://colab.research.google.com/assets/colab-badge.svg\" alt=\"Open In Colab\"/></a>"
      ]
    },
    {
      "cell_type": "code",
      "execution_count": 1,
      "metadata": {
        "id": "Z65ECzqQoyEh"
      },
      "outputs": [],
      "source": [
        "import pandas as pd\n",
        "import numpy as np\n",
        "import pandas as pd\n",
        "import os\n",
        "from matplotlib import image\n",
        "import matplotlib.pyplot as plt\n",
        "from tqdm import tqdm"
      ]
    },
    {
      "cell_type": "code",
      "source": [
        "def find_orbitals(filename):\n",
        "  with open(filename, \"r\") as f:\n",
        "    orbitals = []\n",
        "    inner_orbitals = []\n",
        "    parse = False\n",
        "    for line in f:\n",
        "      #start exctract text \n",
        "      if 'ORBITAL ENERGIES' in line:\n",
        "        parse = True\n",
        "        next(f)\n",
        "        next(f)\n",
        "        continue\n",
        "                  \n",
        "      if parse:\n",
        "        if len(line.split()) == 0:\n",
        "          orbitals.append(inner_orbitals)\n",
        "          inner_orbitals = []\n",
        "          break\n",
        "        else:\n",
        "          inner_orbitals.append(line)\n",
        "\n",
        "  return orbitals[-1]"
      ],
      "metadata": {
        "id": "NbotMyElo0Ry"
      },
      "execution_count": 2,
      "outputs": []
    },
    {
      "cell_type": "code",
      "source": [
        "import pandas as pd\n",
        "\n",
        "def Extract(i, lst):\n",
        "  return [item[i] for item in lst]\n",
        "  \n",
        "def clean_data(filename):\n",
        "  orbital_list = find_orbitals(filename)\n",
        "  rows = []\n",
        "\n",
        "  for x in range(1, len(orbital_list)):\n",
        "    rows.append(orbital_list[x].split())\n",
        "\n",
        "  data = np.array(rows)\n",
        "\n",
        "  no = Extract(0, data)\n",
        "  occ = Extract(1, data)\n",
        "  eeh = Extract(2, data)\n",
        "  eev = Extract(3, data)\n",
        "\n",
        "  dict = {'NO': no, 'OCC': occ, 'E(Eh)': eeh, 'E(eV)': eev} \n",
        "\n",
        "  df = pd.DataFrame(dict) \n",
        "      \n",
        "\n",
        "  return df"
      ],
      "metadata": {
        "id": "1a4S87c9o1Ms"
      },
      "execution_count": 3,
      "outputs": []
    },
    {
      "cell_type": "code",
      "source": [
        "!git clone https://github.com/archana-verma/Reesa_Archana.git\n",
        "os.chdir('./Reesa_Archana/TTN/')"
      ],
      "metadata": {
        "colab": {
          "base_uri": "https://localhost:8080/"
        },
        "id": "w0Omi0nBo2V-",
        "outputId": "9abcd06c-2d3b-4d82-d64a-91130e959575"
      },
      "execution_count": 4,
      "outputs": [
        {
          "output_type": "stream",
          "name": "stdout",
          "text": [
            "Cloning into 'Reesa_Archana'...\n",
            "remote: Enumerating objects: 352, done.\u001b[K\n",
            "remote: Counting objects: 100% (164/164), done.\u001b[K\n",
            "remote: Compressing objects: 100% (157/157), done.\u001b[K\n",
            "remote: Total 352 (delta 53), reused 79 (delta 7), pack-reused 188\u001b[K\n",
            "Receiving objects: 100% (352/352), 95.29 MiB | 20.47 MiB/s, done.\n",
            "Resolving deltas: 100% (77/77), done.\n",
            "Updating files: 100% (247/247), done.\n"
          ]
        }
      ]
    },
    {
      "cell_type": "code",
      "source": [
        "df = clean_data('TTN.out')\n",
        "dfCSV = df.to_csv('TTN.csv')\n",
        "df.info"
      ],
      "metadata": {
        "colab": {
          "base_uri": "https://localhost:8080/"
        },
        "id": "CsnuQAqVo4TS",
        "outputId": "f54abd78-be70-4d3e-b5c4-c9de8abbaa66"
      },
      "execution_count": 5,
      "outputs": [
        {
          "output_type": "execute_result",
          "data": {
            "text/plain": [
              "<bound method DataFrame.info of       NO     OCC       E(Eh)       E(eV)\n",
              "0      0  2.0000  -89.000137  -2421.8169\n",
              "1      1  2.0000  -89.000137  -2421.8168\n",
              "2      2  2.0000  -89.000067  -2421.8149\n",
              "3      3  2.0000  -89.000066  -2421.8149\n",
              "4      4  2.0000  -10.336595   -281.2730\n",
              "..   ...     ...         ...         ...\n",
              "749  749  0.0000   23.297773    633.9646\n",
              "750  750  0.0000   23.313501    634.3926\n",
              "751  751  0.0000   23.426612    637.4705\n",
              "752  752  0.0000   23.756933    646.4590\n",
              "753  753  0.0000   24.095396    655.6691\n",
              "\n",
              "[754 rows x 4 columns]>"
            ]
          },
          "metadata": {},
          "execution_count": 5
        }
      ]
    }
  ]
}