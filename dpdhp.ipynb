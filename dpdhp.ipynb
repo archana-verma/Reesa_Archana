{
  "nbformat": 4,
  "nbformat_minor": 0,
  "metadata": {
    "colab": {
      "provenance": [],
      "authorship_tag": "ABX9TyOLepQCQYgGFFmZRj4dgsnf",
      "include_colab_link": true
    },
    "kernelspec": {
      "name": "python3",
      "display_name": "Python 3"
    },
    "language_info": {
      "name": "python"
    }
  },
  "cells": [
    {
      "cell_type": "markdown",
      "metadata": {
        "id": "view-in-github",
        "colab_type": "text"
      },
      "source": [
        "<a href=\"https://colab.research.google.com/github/archana-verma/Reesa_Archana/blob/main/dpdhp.ipynb\" target=\"_parent\"><img src=\"https://colab.research.google.com/assets/colab-badge.svg\" alt=\"Open In Colab\"/></a>"
      ]
    },
    {
      "cell_type": "code",
      "execution_count": 1,
      "metadata": {
        "id": "0UWS5T-gkhIZ"
      },
      "outputs": [],
      "source": [
        "import pandas as pd\n",
        "import numpy as np\n",
        "import pandas as pd\n",
        "import os\n",
        "from matplotlib import image\n",
        "import matplotlib.pyplot as plt\n",
        "from tqdm import tqdm"
      ]
    },
    {
      "cell_type": "code",
      "source": [
        "def find_orbitals(filename):\n",
        "  with open(filename, \"r\") as f:\n",
        "    orbitals = []\n",
        "    inner_orbitals = []\n",
        "    parse = False\n",
        "    for line in f:\n",
        "      #start exctract text \n",
        "      if 'ORBITAL ENERGIES' in line:\n",
        "        parse = True\n",
        "        next(f)\n",
        "        next(f)\n",
        "        continue\n",
        "                  \n",
        "      if parse:\n",
        "        if len(line.split()) == 0:\n",
        "          orbitals.append(inner_orbitals)\n",
        "          inner_orbitals = []\n",
        "          break\n",
        "        else:\n",
        "          inner_orbitals.append(line)\n",
        "\n",
        "  return orbitals[-1]"
      ],
      "metadata": {
        "id": "r0XP52jBkpH6"
      },
      "execution_count": 2,
      "outputs": []
    },
    {
      "cell_type": "code",
      "source": [
        "import pandas as pd\n",
        "\n",
        "def Extract(i, lst):\n",
        "  return [item[i] for item in lst]\n",
        "  \n",
        "def clean_data(filename):\n",
        "  orbital_list = find_orbitals(filename)\n",
        "  rows = []\n",
        "\n",
        "  for x in range(1, len(orbital_list)):\n",
        "    rows.append(orbital_list[x].split())\n",
        "\n",
        "  data = np.array(rows)\n",
        "\n",
        "  no = Extract(0, data)\n",
        "  occ = Extract(1, data)\n",
        "  eeh = Extract(2, data)\n",
        "  eev = Extract(3, data)\n",
        "\n",
        "  dict = {'NO': no, 'OCC': occ, 'E(Eh)': eeh, 'E(eV)': eev} \n",
        "\n",
        "  df = pd.DataFrame(dict) \n",
        "      \n",
        "\n",
        "  return df"
      ],
      "metadata": {
        "id": "ijPBUKClkqFl"
      },
      "execution_count": 3,
      "outputs": []
    },
    {
      "cell_type": "code",
      "source": [
        "!git clone https://github.com/archana-verma/Reesa_Archana.git\n",
        "os.chdir('./Reesa_Archana/DPDHP/')"
      ],
      "metadata": {
        "colab": {
          "base_uri": "https://localhost:8080/"
        },
        "id": "J3HIZkMYkrRR",
        "outputId": "823355bc-52d4-4569-ba39-c2c8ff909e6c"
      },
      "execution_count": 4,
      "outputs": [
        {
          "output_type": "stream",
          "name": "stdout",
          "text": [
            "Cloning into 'Reesa_Archana'...\n",
            "remote: Enumerating objects: 303, done.\u001b[K\n",
            "remote: Counting objects: 100% (115/115), done.\u001b[K\n",
            "remote: Compressing objects: 100% (108/108), done.\u001b[K\n",
            "remote: Total 303 (delta 25), reused 79 (delta 7), pack-reused 188\u001b[K\n",
            "Receiving objects: 100% (303/303), 95.28 MiB | 15.62 MiB/s, done.\n",
            "Resolving deltas: 100% (49/49), done.\n",
            "Updating files: 100% (240/240), done.\n"
          ]
        }
      ]
    },
    {
      "cell_type": "code",
      "source": [
        "dpdhp = clean_data('DPDHP.out')\n",
        "dpdhpCSV = dpdhp.to_csv('DPDHP.csv')\n",
        "dpdhp.info"
      ],
      "metadata": {
        "colab": {
          "base_uri": "https://localhost:8080/"
        },
        "id": "Qec2wlNskuUj",
        "outputId": "3e7e3645-6db7-4fb2-d5ab-6d33a46a34ae"
      },
      "execution_count": 5,
      "outputs": [
        {
          "output_type": "execute_result",
          "data": {
            "text/plain": [
              "<bound method DataFrame.info of       NO     OCC       E(Eh)      E(eV)\n",
              "0      0  2.0000  -19.260173  -524.0960\n",
              "1      1  2.0000  -14.450855  -393.2278\n",
              "2      2  2.0000  -10.342801  -281.4419\n",
              "3      3  2.0000  -10.327283  -281.0197\n",
              "4      4  2.0000  -10.326492  -280.9981\n",
              "..   ...     ...         ...        ...\n",
              "970  970  0.0000   23.297168   633.9482\n",
              "971  971  0.0000   23.375233   636.0724\n",
              "972  972  0.0000   23.412640   637.0903\n",
              "973  973  0.0000   33.088774   900.3913\n",
              "974  974  0.0000   44.358927  1207.0678\n",
              "\n",
              "[975 rows x 4 columns]>"
            ]
          },
          "metadata": {},
          "execution_count": 5
        }
      ]
    }
  ]
}