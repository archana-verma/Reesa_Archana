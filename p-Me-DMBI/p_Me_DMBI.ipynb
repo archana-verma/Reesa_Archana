{
  "nbformat": 4,
  "nbformat_minor": 0,
  "metadata": {
    "colab": {
      "provenance": [],
      "authorship_tag": "ABX9TyPfpUfKo96cQunHBnUmeVE2",
      "include_colab_link": true
    },
    "kernelspec": {
      "name": "python3",
      "display_name": "Python 3"
    },
    "language_info": {
      "name": "python"
    }
  },
  "cells": [
    {
      "cell_type": "markdown",
      "metadata": {
        "id": "view-in-github",
        "colab_type": "text"
      },
      "source": [
        "<a href=\"https://colab.research.google.com/github/archana-verma/Reesa_Archana/blob/main/p_Me_DMBI.ipynb\" target=\"_parent\"><img src=\"https://colab.research.google.com/assets/colab-badge.svg\" alt=\"Open In Colab\"/></a>"
      ]
    },
    {
      "cell_type": "code",
      "execution_count": 1,
      "metadata": {
        "id": "6Iu4M9KKtFu0"
      },
      "outputs": [],
      "source": [
        "import pandas as pd\n",
        "import numpy as np\n",
        "import pandas as pd\n",
        "import os\n",
        "from matplotlib import image\n",
        "import matplotlib.pyplot as plt\n",
        "from tqdm import tqdm"
      ]
    },
    {
      "cell_type": "code",
      "source": [
        "def find_orbitals(filename):\n",
        "  with open(filename, \"r\") as f:\n",
        "    orbitals = []\n",
        "    inner_orbitals = []\n",
        "    parse = False\n",
        "    for line in f:\n",
        "      #start exctract text \n",
        "      if 'ORBITAL ENERGIES' in line:\n",
        "        parse = True\n",
        "        next(f)\n",
        "        next(f)\n",
        "        continue\n",
        "                  \n",
        "      if parse:\n",
        "        if len(line.split()) == 0:\n",
        "          orbitals.append(inner_orbitals)\n",
        "          inner_orbitals = []\n",
        "          break\n",
        "        else:\n",
        "          inner_orbitals.append(line)\n",
        "\n",
        "  return orbitals[-1]"
      ],
      "metadata": {
        "id": "pTh3y27ktGTA"
      },
      "execution_count": 2,
      "outputs": []
    },
    {
      "cell_type": "code",
      "source": [
        "import pandas as pd\n",
        "\n",
        "def Extract(i, lst):\n",
        "  return [item[i] for item in lst]\n",
        "  \n",
        "def clean_data(filename):\n",
        "  orbital_list = find_orbitals(filename)\n",
        "  rows = []\n",
        "\n",
        "  for x in range(1, len(orbital_list)):\n",
        "    rows.append(orbital_list[x].split())\n",
        "\n",
        "  data = np.array(rows)\n",
        "\n",
        "  no = Extract(0, data)\n",
        "  occ = Extract(1, data)\n",
        "  eeh = Extract(2, data)\n",
        "  eev = Extract(3, data)\n",
        "\n",
        "  dict = {'NO': no, 'OCC': occ, 'E(Eh)': eeh, 'E(eV)': eev} \n",
        "\n",
        "  df = pd.DataFrame(dict) \n",
        "      \n",
        "\n",
        "  return df"
      ],
      "metadata": {
        "id": "-mJFjYvFtHOv"
      },
      "execution_count": 3,
      "outputs": []
    },
    {
      "cell_type": "code",
      "source": [
        "!git clone https://github.com/archana-verma/Reesa_Archana.git\n",
        "os.chdir('./Reesa_Archana/p-Me-DMBI/')"
      ],
      "metadata": {
        "colab": {
          "base_uri": "https://localhost:8080/"
        },
        "id": "lswYKvdYtIg5",
        "outputId": "b0cf99c8-26ce-418f-cc62-da90f2756a6d"
      },
      "execution_count": 5,
      "outputs": [
        {
          "output_type": "stream",
          "name": "stdout",
          "text": [
            "fatal: destination path 'Reesa_Archana' already exists and is not an empty directory.\n"
          ]
        }
      ]
    },
    {
      "cell_type": "code",
      "source": [
        "df = clean_data('p-Me-DMBI.out')\n",
        "dfCSV = df.to_csv('p-Me-DMBI.csv')\n",
        "df.info"
      ],
      "metadata": {
        "colab": {
          "base_uri": "https://localhost:8080/"
        },
        "id": "dfJcWv4ItLH6",
        "outputId": "8df0b35b-4def-4e65-c935-dfac3ca80b5a"
      },
      "execution_count": 6,
      "outputs": [
        {
          "output_type": "execute_result",
          "data": {
            "text/plain": [
              "<bound method DataFrame.info of       NO     OCC       E(Eh)      E(eV)\n",
              "0      0  2.0000  -14.475381  -393.8951\n",
              "1      1  2.0000  -14.469271  -393.7289\n",
              "2      2  2.0000  -10.355344  -281.7832\n",
              "3      3  2.0000  -10.350570  -281.6533\n",
              "4      4  2.0000  -10.326853  -281.0080\n",
              "..   ...     ...         ...        ...\n",
              "661  661  0.0000   23.182401   630.8252\n",
              "662  662  0.0000   23.399582   636.7350\n",
              "663  663  0.0000   23.698755   644.8759\n",
              "664  664  0.0000   33.078450   900.1104\n",
              "665  665  0.0000   33.099773   900.6906\n",
              "\n",
              "[666 rows x 4 columns]>"
            ]
          },
          "metadata": {},
          "execution_count": 6
        }
      ]
    }
  ]
}
